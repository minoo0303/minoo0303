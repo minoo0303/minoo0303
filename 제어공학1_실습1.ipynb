{
  "nbformat": 4,
  "nbformat_minor": 0,
  "metadata": {
    "colab": {
      "provenance": [],
      "authorship_tag": "ABX9TyPejEpKfX1Fea5tB7MWA0ps",
      "include_colab_link": true
    },
    "kernelspec": {
      "name": "python3",
      "display_name": "Python 3"
    },
    "language_info": {
      "name": "python"
    }
  },
  "cells": [
    {
      "cell_type": "markdown",
      "metadata": {
        "id": "view-in-github",
        "colab_type": "text"
      },
      "source": [
        "<a href=\"https://colab.research.google.com/github/minoo0303/minoo0303/blob/main/%EC%A0%9C%EC%96%B4%EA%B3%B5%ED%95%991_%EC%8B%A4%EC%8A%B51.ipynb\" target=\"_parent\"><img src=\"https://colab.research.google.com/assets/colab-badge.svg\" alt=\"Open In Colab\"/></a>"
      ]
    },
    {
      "cell_type": "markdown",
      "source": [
        "######굵게6\n",
        "#####굵게5\n",
        "####굵게4\n",
        "###굵게3\n",
        "##굵게2\n",
        "#굵게1\n",
        "\n",
        "**진하게**    \n",
        "__밑줄__  \n",
        "~~취소~~  \n",
        "_기울임_  \n",
        "_기울임_\n",
        "```\n",
        "인라인코드\n",
        "```\n",
        "문장\n",
        "줄바꿈\n",
        "안함  \n",
        "\n",
        "문장  \n",
        "줄바꿈  \n",
        "함  \n",
        "\n",
        ">들여쓰기 1단  \n",
        ">>들여쓰기 2단  \n",
        "\n",
        "```\n",
        "import something\n",
        "a = 10\n",
        "print(a)\n",
        "if a>10:\n",
        "print(a)\n",
        "```\n",
        "\n",
        "$\\begin{matrix}1&2\\\\3&4\\\\ \\end{matrix}$\n",
        "$\\begin{pmatrix}1&2\\\\3&4\\\\ \\end{pmatrix}$\n",
        "$\\begin{bmatrix}1&2\\\\3&4\\\\ \\end{bmatrix}$\n",
        "$\\begin{Bmatrix}1&2\\\\3&4\\\\ \\end{Bmatrix}$\n",
        "$\\begin{vmatrix}1&2\\\\3&4\\\\ \\end{vmatrix}$\n",
        "$\\begin{Vmatrix}1&2\\\\3&4\\\\ \\end{Vmatrix}$\n",
        "  \n",
        "$\\displaystyle\\lim_{s\\rarr\\infin}{s^2}$\n",
        "$\\displaystyle\\sum_{i=0}^{\\infin}{(y_i-t_i)^2}$  \n",
        "문장내 $\\frac{1+s}{s(s+2)}$ 삽입\n",
        "$$\\frac{1+s}{s(s+2)}$$\n",
        "\n",
        "---\n",
        "$$\n",
        "\\begin{aligned}\n",
        "f(x)&=ax^2+bx+c\\\\\n",
        "g(x)&=Ax^4\n",
        "\\end{aligned}\n",
        "$$\n",
        "---\n",
        "###사진  \n",
        "![이미지설명문구]()  \n",
        "###체크박스\n",
        "* [ ] 비어있는 체크박스  \n",
        "* [x] 체크된 체크박스  \n",
        "\n",
        "###하이퍼링크\n",
        "[바로가기](http://www.google.com)\n",
        "<http://www.google.com>\n",
        "\n",
        "###수평선\n",
        "***\n",
        "***\n",
        "###표\n",
        "|1열|2열|3열|\n",
        "|:---|---|---:|\n",
        "|바디1|바디2|바디3|\n",
        "|바디4|바디5|바디6|\n",
        "\n",
        "###목록\n",
        "* 사과\n",
        "* 오렌지\n",
        "  + 딸기\n",
        "  + 파인애플\n",
        "- 포도\n",
        "- 바나나\n",
        "1. 참외\n",
        "2. 수\n",
        "\n",
        "\n",
        "\n",
        "\n",
        "\n",
        "\n"
      ],
      "metadata": {
        "id": "bOoOtkcSqqGA"
      }
    },
    {
      "cell_type": "code",
      "source": [],
      "metadata": {
        "id": "WWEw2inUxcZG"
      },
      "execution_count": null,
      "outputs": []
    }
  ]
}